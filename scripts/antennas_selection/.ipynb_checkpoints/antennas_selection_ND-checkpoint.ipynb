{
 "cells": [
  {
   "cell_type": "code",
   "execution_count": 1,
   "id": "5e96b200-1f42-4d97-b7bb-980a49493fee",
   "metadata": {},
   "outputs": [],
   "source": [
    "import pandas as pd\n",
    "import numpy as np\n",
    "\n",
    "df_cells_list_lyon = pd.read_csv('/DISCRET_SOURCE_DATAs/TestAngelo/DIOD/CELLS_TOPO/antennas_locinfo_Lyon.csv', sep=';')\n",
    "df_cells_infos_list = pd.read_csv('/DISCRET_SOURCE_DATAs/TestAngelo/DIOD/CELLS_TOPO/LocInfo_cancan_allcells_names_wgs.csv', sep=';')"
   ]
  },
  {
   "cell_type": "code",
   "execution_count": 5,
   "id": "dc38f233-36a5-41eb-bc44-bed75e091de2",
   "metadata": {},
   "outputs": [
    {
     "name": "stdout",
     "output_type": "stream",
     "text": [
      "<class 'pandas.core.frame.DataFrame'>\n",
      "RangeIndex: 2722 entries, 0 to 2721\n",
      "Data columns (total 2 columns):\n",
      " #   Column      Non-Null Count  Dtype \n",
      "---  ------      --------------  ----- \n",
      " 0   Unnamed: 0  2722 non-null   int64 \n",
      " 1   0           2722 non-null   object\n",
      "dtypes: int64(1), object(1)\n",
      "memory usage: 42.7+ KB\n",
      "None\n",
      "<class 'pandas.core.frame.DataFrame'>\n",
      "RangeIndex: 429391 entries, 0 to 429390\n",
      "Data columns (total 11 columns):\n",
      " #   Column    Non-Null Count   Dtype  \n",
      "---  ------    --------------   -----  \n",
      " 0   LocInfo   429391 non-null  object \n",
      " 1   TECHNO    429391 non-null  object \n",
      " 2   LAC       429391 non-null  int64  \n",
      " 3   CI        429391 non-null  int64  \n",
      " 4   COORD_X   429391 non-null  int64  \n",
      " 5   COORD_Y   429391 non-null  int64  \n",
      " 6   LON       429391 non-null  float64\n",
      " 7   LAT       429391 non-null  float64\n",
      " 8   min_dt    429391 non-null  object \n",
      " 9   max_dt    429391 non-null  object \n",
      " 10  NOM_SITE  429391 non-null  object \n",
      "dtypes: float64(2), int64(4), object(5)\n",
      "memory usage: 36.0+ MB\n",
      "None\n"
     ]
    }
   ],
   "source": [
    "print(df_cells_list_lyon.info(verbose=True))\n",
    "print(df_cells_infos_list.info(verbose=True))\n"
   ]
  },
  {
   "cell_type": "code",
   "execution_count": 6,
   "id": "f5a49eb0-779f-444b-9b78-8d10a708c831",
   "metadata": {},
   "outputs": [
    {
     "name": "stdout",
     "output_type": "stream",
     "text": [
      "['0102f810041e6575', '0102f810041f4a69', '0102f810041f4d6f', '0102f810041fd3e8', '0102f81007083f37', '0102f81007084f79', '8102f8100099560b', '8102f81000998b07', '8102f810009b2806', '8102f81000ae7706']\n"
     ]
    }
   ],
   "source": [
    "df_cells_list_lyon = df_cells_list_lyon.rename(columns={'0':'LocInfo'})\n",
    "cells_lyon_list = df_cells_list_lyon['LocInfo'].tolist()\n",
    "\n",
    "print(cells_lyon_list[0:10])"
   ]
  },
  {
   "cell_type": "code",
   "execution_count": 7,
   "id": "dc1dd5b5-1392-4000-9970-0722cfb6713c",
   "metadata": {},
   "outputs": [
    {
     "name": "stdout",
     "output_type": "stream",
     "text": [
      "<class 'pandas.core.frame.DataFrame'>\n",
      "Int64Index: 2722 entries, 498 to 428662\n",
      "Data columns (total 11 columns):\n",
      " #   Column    Non-Null Count  Dtype  \n",
      "---  ------    --------------  -----  \n",
      " 0   LocInfo   2722 non-null   object \n",
      " 1   TECHNO    2722 non-null   object \n",
      " 2   LAC       2722 non-null   int64  \n",
      " 3   CI        2722 non-null   int64  \n",
      " 4   COORD_X   2722 non-null   int64  \n",
      " 5   COORD_Y   2722 non-null   int64  \n",
      " 6   LON       2722 non-null   float64\n",
      " 7   LAT       2722 non-null   float64\n",
      " 8   min_dt    2722 non-null   object \n",
      " 9   max_dt    2722 non-null   object \n",
      " 10  NOM_SITE  2722 non-null   object \n",
      "dtypes: float64(2), int64(4), object(5)\n",
      "memory usage: 255.2+ KB\n",
      "None\n"
     ]
    }
   ],
   "source": [
    "selected_cells_infos_list = df_cells_infos_list[df_cells_infos_list['LocInfo'].isin(cells_lyon_list)]\n",
    "print(selected_cells_infos_list.info(verbose=True))"
   ]
  },
  {
   "cell_type": "code",
   "execution_count": 9,
   "id": "26ea68fd-a14a-4c25-8cc0-840d8bfa84f2",
   "metadata": {},
   "outputs": [],
   "source": [
    "selected_cells_infos_list.to_csv('antennas_topo_Lyon.csv', index=False)"
   ]
  },
  {
   "cell_type": "code",
   "execution_count": null,
   "id": "fb8c4fe7-ef53-4299-bced-18aecadb4e83",
   "metadata": {},
   "outputs": [],
   "source": []
  }
 ],
 "metadata": {
  "kernelspec": {
   "display_name": "Python 3 (ipykernel)",
   "language": "python",
   "name": "python3"
  },
  "language_info": {
   "codemirror_mode": {
    "name": "ipython",
    "version": 3
   },
   "file_extension": ".py",
   "mimetype": "text/x-python",
   "name": "python",
   "nbconvert_exporter": "python",
   "pygments_lexer": "ipython3",
   "version": "3.8.13"
  }
 },
 "nbformat": 4,
 "nbformat_minor": 5
}
